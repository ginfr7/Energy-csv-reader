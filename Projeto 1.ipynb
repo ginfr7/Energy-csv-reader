{
 "cells": [
  {
   "cell_type": "code",
   "execution_count": null,
   "id": "4090bb2b",
   "metadata": {},
   "outputs": [],
   "source": [
    "import math\n",
    "\n",
    "def significantDigits(x):                                \n",
    "    return math.floor(math.log10(abs(x)))  \n",
    "\n",
    "#returns the order of magnitude in base 10             \n",
    "                                                        \n",
    "sD = significantDigits"
   ]
  },
  {
   "cell_type": "code",
   "execution_count": null,
   "id": "b6cbfaa0",
   "metadata": {},
   "outputs": [
    {
     "data": {
      "text/plain": [
       "'10 ± 7'"
      ]
     },
     "execution_count": 20,
     "metadata": {},
     "output_type": "execute_result"
    }
   ],
   "source": [
    "def report(mx):\n",
    "  x, ix = mx\n",
    "  return f'{x} ± {ix}'\n",
    "\n",
    "#returns the input tupple (x,y) as 'x ± y'"
   ]
  },
  {
   "cell_type": "code",
   "execution_count": null,
   "id": "b40c1264",
   "metadata": {},
   "outputs": [
    {
     "data": {
      "text/plain": [
       "(1100.0, 0.0)"
      ]
     },
     "execution_count": 126,
     "metadata": {},
     "output_type": "execute_result"
    }
   ],
   "source": [
    "def arred(mx,n=0):\n",
    "    x, ix = mx\n",
    "    ordemG_ix = significantDigits(ix)\n",
    "    ordemG_x = significantDigits(x)\n",
    "    aprox_ix = 10**abs(ordemG_ix)\n",
    "     \n",
    "    \n",
    "    if ordemG_ix < 0:\n",
    "        valor = ix*aprox_ix\n",
    "        redondo_ix = round(valor,n)/aprox_ix\n",
    "    else:\n",
    "        valor = ix/aprox_ix\n",
    "        redondo_ix = round(valor,n)*aprox_ix\n",
    "    if ordemG_ix < 0:\n",
    "        redondo_x = round(x,abs(ordemG_ix))\n",
    "    else:\n",
    "        x = x/aprox_ix\n",
    "        redondo_x = round(x,n)*aprox_ix\n",
    "        \n",
    "    return (redondo_x , redondo_ix)\n",
    "\n",
    "\n",
    "#returns a copy of the given tupple with its values rounded on the n-th decimal place"
   ]
  },
  {
   "cell_type": "code",
   "execution_count": 31,
   "id": "0d35d19a",
   "metadata": {},
   "outputs": [],
   "source": [
    "import math\n",
    "\n",
    "def plus(mx, my, a=1, b=1):\n",
    "    medx, incx = mx\n",
    "    medy, incy = my\n",
    "    \n",
    "    return ((a*medx) + (b*medy), math.sqrt((a*incx)**2+(b*incy)**2))\n",
    "\n",
    "#for the tuples (x,y), (z,w) returns the tupple ( x*a + z*b , sqrt( (y*a)^2 + (w*b)^2 )) \n",
    "#this acts as a function for the adding of 2 quantities and their respective propagation of uncertainty."
   ]
  },
  {
   "cell_type": "code",
   "execution_count": null,
   "id": "dc40ba3a",
   "metadata": {},
   "outputs": [],
   "source": [
    "import math\n",
    "\n",
    "def product(mx, my, a=1):\n",
    "    medx , x = mx\n",
    "    medy , y = my\n",
    "    \n",
    "    return (a*medx*medy , math.sqrt((a*y*medx)**2 + (a*x*medy)**2))\n",
    "\n",
    "#this acts as a function for the multiplication of 2 quantities and their respective propagation of uncertainty."
   ]
  },
  {
   "cell_type": "code",
   "execution_count": null,
   "id": "3dd69578",
   "metadata": {},
   "outputs": [],
   "source": [
    "import math\n",
    "\n",
    "def divide(mx, my, a=1):\n",
    "    medx , x = mx\n",
    "    medy , y = my\n",
    "    \n",
    "    return ((a*medx)/medy , math.sqrt((a*x/medy)**2 + (a*medx*y/(medy)**2)**2))\n",
    "\n",
    "#this acts as a function for the division of 2 quantities and their respective propagation of uncertainty."
   ]
  },
  {
   "cell_type": "code",
   "execution_count": null,
   "id": "64e1529f",
   "metadata": {},
   "outputs": [],
   "source": [
    "def removeOnes(lista):\n",
    "    while '1' in lista and lista != ['1']:\n",
    "        lista.remove('1')\n",
    "\n",
    "#given a List, returns ['1'] or removes every 1 (if lista != ['1'])\n",
    "        \n",
    "def gerOnes(lista):\n",
    "    lista1, lista2 = lista\n",
    "    \n",
    "    for x in lista1:\n",
    "        if x in lista2:\n",
    "            lista1[lista1.index(x)] = '1'\n",
    "            lista2[lista2.index(x)] = '1'\n",
    "\n",
    "#given (x,y), substitutes every equal term on list x and y by '1'\n",
    "\n",
    "def canonical(unit):\n",
    "    lista1 , lista2 = unit\n",
    "    gerOnes((lista1,lista2)), removeOnes(lista1), removeOnes(lista2)\n",
    "    \n",
    "    return (sorted(lista1) , sorted(lista2))\n",
    "\n",
    "#given (x,y), returns (x',y') where x' and y' are the list of terms that where common\n",
    "# x' = ['1'] or y' = ['1'] if all terms where in common\n",
    "\n",
    "can = canonical\n",
    "\n"
   ]
  },
  {
   "cell_type": "code",
   "execution_count": null,
   "id": "9d615a22",
   "metadata": {},
   "outputs": [],
   "source": [
    "def unitArred(mx):\n",
    "    med, inc, uni = mx\n",
    "    med1, inc1 = arred((med,inc))\n",
    "    return (med1, inc1, canonical(uni))\n",
    "\n",
    "#Rounds up the measure and the uncertainty and puts units in canonical"
   ]
  },
  {
   "cell_type": "code",
   "execution_count": null,
   "id": "509d23a3",
   "metadata": {},
   "outputs": [],
   "source": [
    "#Some common units are the ones that follow:\n",
    "\n",
    "joule        = (['kg', 'm'], ['s', 's'])\n",
    "volt         = (['kg', 'm', 'm'], ['A', 's', 's', 's'])\n",
    "number       = (['1'], ['1'])\n",
    "kilogram     = (['kg'], ['1'])\n",
    "meter        = (['m'], ['1'])\n",
    "newton       = (['kg', 'm'], ['s', 's'])\n",
    "joule        = (['kg', 'm'], ['s', 's'])\n",
    "watt         = (['kg', 'm', 'm'], ['s', 's', 's'])\n",
    "coulomb      = (['A', 's'], ['1'])\n",
    "volt         = (['kg', 'm', 'm'], ['A', 's', 's', 's'])\n",
    "velocity     = (['m'], ['s'])\n",
    "acceleration = (['m'], ['s', 's'])\n",
    "sq_meter     = (['m', 'm'], ['1'])\n",
    "pascal       = (['kg'], ['m', 's', 's'])\n",
    "ohm          = (['kg', 'm', 'm'], ['s', 's', 's', 'A','A'])\n",
    "\n",
    "#Here, for the tuple (x,y), x represents the numerator and y the denominator.\n",
    "\n"
   ]
  },
  {
   "cell_type": "code",
   "execution_count": null,
   "id": "bf604f38",
   "metadata": {},
   "outputs": [],
   "source": [
    "def unitReport(mx):\n",
    "    \"\"\" function report to print measures with units \"\"\"\n",
    "    x, ix, ux = mx\n",
    "    return f'{x} ± {ix} {unitLabel(ux)}'\n",
    "\n",
    "def contador(elementos):\n",
    "    lista = []\n",
    "    elementos = sorted(elementos)\n",
    "    puro = sorted(list(set(elementos)))     #Counts how many element of each kind the list has,                                     \n",
    "                                            #Returns sorted by occorence\n",
    "    for x in puro:\n",
    "        lista.append(elementos.count(x))\n",
    "        \n",
    "    return (lista, puro)                    #'lista' returns how many; 'puro' returns what was counted\n",
    "    \n",
    "def unitLabel(units):\n",
    "    num, den = units\n",
    "    juntarNum = []\n",
    "    juntarDen = []\n",
    "    numerador, puroNum = contador(num)\n",
    "    denominador, puroDen = contador(den)\n",
    "    \n",
    "    for i in range(len(numerador)):\n",
    "        if numerador[i] != 1:\n",
    "            juntarNum.append(f'{puroNum[i]}^{numerador[i]}')\n",
    "        else:\n",
    "            juntarNum.append(puroNum[i])\n",
    "    for i in range(len(denominador)):\n",
    "        if denominador[i] != 1:\n",
    "            juntarDen.append(f'{puroDen[i]}^{denominador[i]}')\n",
    "        else:\n",
    "            juntarDen.append(puroDen[i])\n",
    "            \n",
    "    nume = '.'.join(juntarNum)\n",
    "    div = '.'.join(juntarDen)\n",
    "    if div != '1':\n",
    "        return f'{nume}/{div}'\n",
    "    else:\n",
    "        return f'{nume}'\n",
    "\n",
    "#returns a simple written notation for units,\n",
    "#where everything before '/' is the numerator and after is the denominator;\n",
    "#'^' is exponentiation and '.' multiplication"
   ]
  },
  {
   "cell_type": "code",
   "execution_count": null,
   "id": "e8cf1229",
   "metadata": {},
   "outputs": [],
   "source": [
    "def unitPlus(mx, my, a=1, b=1):\n",
    "    medx, incx, unix = mx\n",
    "    medy, incy, uniy = my\n",
    "    \n",
    "    if unix != uniy:\n",
    "        raise TypeError('soma de unidades diferentes')\n",
    "    else:    \n",
    "        w = plus((medx,incx),(medy,incy), a=a, b=b)\n",
    "        w1, w2 = w\n",
    "        return (w1, w2, unix)\n",
    "\n",
    "#Adds two quantities with units (must be same units).\n",
    "#Returns the triple (x,y,z) where x is the resulting quantitie, \n",
    "#y its respective uncertainty and z its units "
   ]
  },
  {
   "cell_type": "code",
   "execution_count": null,
   "id": "611ed214",
   "metadata": {},
   "outputs": [],
   "source": [
    "def unitProduct(mx, my, a=1):\n",
    "    medx, incx, unix = mx\n",
    "    medy, incy, uniy = my\n",
    "    numx, denx = unix\n",
    "    numy, deny = uniy\n",
    "    \n",
    "    uni = canonical((numx+numy, deny+denx))\n",
    "    mx = (medx, incx)\n",
    "    my = (medy, incy)\n",
    "        \n",
    "    med, inc = product(mx, my)\n",
    "    return (med, inc, uni)\n",
    "\n",
    "#Multiplies two quantities with units (dont need to be in same units).\n",
    "#Returns the triple (x,y,z) where x is the resulting quantitie, \n",
    "#y its respective uncertainty and z its units "
   ]
  },
  {
   "cell_type": "code",
   "execution_count": null,
   "id": "3d18d5c3",
   "metadata": {},
   "outputs": [],
   "source": [
    "import math\n",
    "\n",
    "def mean(xs):\n",
    "    n = len(xs)\n",
    "    soma = sum(xs)\n",
    "    \n",
    "    return soma/n\n",
    "  \n",
    "def sd(xs):\n",
    "    i = 0\n",
    "    a = mean(xs)\n",
    "    while i in range(len(xs)):\n",
    "        xs[i] = xs[i]-a\n",
    "        i = i+1\n",
    "    new = [ x**2 for x in xs ]\n",
    "    \n",
    "    return math.sqrt(sum(new)/(len(xs)-1))\n",
    "\n",
    "#returns the standard deviation\n",
    "\n",
    "def computemeasure(xs, unit):\n",
    "  return (mean(xs), sd(xs), unit)"
   ]
  },
  {
   "cell_type": "code",
   "execution_count": null,
   "id": "5951afc6",
   "metadata": {},
   "outputs": [],
   "source": [
    "def computeMeasures(data, units):\n",
    "    i = 0\n",
    "    while i in range(len(units)):\n",
    "        for x in data.keys():\n",
    "            data[x]  = computemeasure(data[x], units[i])\n",
    "            i = i + 1\n",
    "            j = 0\n",
    "            for j in range(2):\n",
    "                data[x] = list(data[x])\n",
    "                data[x][j] = round(data[x][j],1)\n",
    "                data[x] = tuple(data[x])\n",
    "    \n",
    "    return data\n",
    "\n",
    "#returns 'computemeasures' for data"
   ]
  },
  {
   "cell_type": "code",
   "execution_count": null,
   "id": "1b2e0986",
   "metadata": {},
   "outputs": [],
   "source": [
    "def contadorLine(m):                \n",
    "    f = open(m)                         \n",
    "    a = 0\n",
    "    for lines in f:\n",
    "        a=a+1\n",
    "    return a\n",
    "\n",
    "#Counts how many lines the file has\n",
    "\n",
    "def readData(filename, labels):\n",
    "    f = open(filename, 'r')                                 #opens file in read mode\n",
    "    lista = []\n",
    "    dic = {}\n",
    "    \n",
    "    num = contadorLine(filename)                            #saves number of lines of the file in 'num'\n",
    "    \n",
    "    for i in range(num):\n",
    "        lista.append(f.readline()[:-1])                     #copies the file info in each line to 'lista', except for the last one\n",
    "    \n",
    "    a = 0\n",
    "    for a in range(len(lista)):                             #split the items on the list by the ';' (each element in 'lista' is now a list of 2 - or more)\n",
    "        lista[a] = lista[a].split(';')\n",
    "    \n",
    "    nova = list(zip(*lista))                                #Joins, in a tuple, each term in the same position. See 'Example 1' at the end.    \n",
    "    for z in nova:\n",
    "        nova[nova.index(z)] = list(nova[nova.index(z)])     #Transforms each tuple in a list\n",
    "        \n",
    "    for a in range(len(nova)):\n",
    "        for b in range(len(nova[0])):\n",
    "            nova[a][b] = float(nova[a][b])                  #Converts each str inside the elements of 'nova' in float\n",
    "            \n",
    "    for s in range(len(labels)):\n",
    "        dic[labels[s]] = nova[s]\n",
    "  \n",
    "    return dic\n",
    "f.close()\n",
    "\n",
    "#Reads the data from a .csv file and returns a dictionary containing the data organized by the input labels\n",
    "#It was supposed to read a file with its labels organized by columns \n",
    " \n",
    "\n",
    "\n"
   ]
  },
  {
   "cell_type": "code",
   "execution_count": null,
   "id": "f001c5c2",
   "metadata": {},
   "outputs": [],
   "source": [
    "def evalEnergy(filename):\n",
    "    data = readData(filename, ['M','V','H'])\n",
    "    dataMeasure = computeMeasures(data, [kilogram, velocity, meter])\n",
    "    \n",
    "    g = (9.805, 0.025 , acceleration)\n",
    "    m = dataMeasure['M']\n",
    "    v = dataMeasure['V']                        \n",
    "    h = dataMeasure['H']\n",
    "    \n",
    "    gh = unitProduct(g,h)\n",
    "    v_sqr = unitProduct(v,v)\n",
    "    \n",
    "    v_sqr = list(v_sqr)\n",
    "    v_sqr[0] = v_sqr[0]/2\n",
    "    v_sqr = tuple(v_sqr)\n",
    "    \n",
    "    soma = unitPlus(gh, v_sqr)\n",
    "    \n",
    "    return unitProduct(m,soma)\n",
    "\n",
    "\n",
    "#returns the sum of classical kinetic and potential energy "
   ]
  },
  {
   "cell_type": "code",
   "execution_count": null,
   "id": "89ac995a",
   "metadata": {},
   "outputs": [],
   "source": [
    "def walk(dir, hidden=False):\n",
    "  for name in os.listdir(dir):\n",
    "    path = os.path.join(dir, name)\n",
    "    if os.path.isfile(path):\n",
    "      if hidden or '/.' not in path:\n",
    "        print(path)\n",
    "    else:\n",
    "      walk(path)"
   ]
  },
  {
   "cell_type": "code",
   "execution_count": 113,
   "id": "bed84cb1",
   "metadata": {},
   "outputs": [
    {
     "name": "stdout",
     "output_type": "stream",
     "text": [
      "[('1', '4', '7'), ('2', '5', '8'), ('3', '6', '9'), (';', ';', ';'), ('1', '4', '7'), ('2', '5', '8'), ('3', '6', '9')]\n",
      "[['1', '4', '7'], ['2', '5', '8'], ['3', '6', '9'], [';', ';', ';'], ['1', '4', '7'], ['2', '5', '8'], ['3', '6', '9']]\n"
     ]
    }
   ],
   "source": [
    "#Example 1\n",
    "\n",
    "lista = ['123;123','456;456','789;789']\n",
    "nova = list(zip(*lista))  \n",
    "\n",
    "print(nova)\n",
    "                                  \n",
    "for z in nova:\n",
    "    nova[nova.index(z)] = list(nova[nova.index(z)])\n",
    "\n",
    "print(nova)\n",
    "\n"
   ]
  }
 ],
 "metadata": {
  "kernelspec": {
   "display_name": "base",
   "language": "python",
   "name": "python3"
  },
  "language_info": {
   "codemirror_mode": {
    "name": "ipython",
    "version": 3
   },
   "file_extension": ".py",
   "mimetype": "text/x-python",
   "name": "python",
   "nbconvert_exporter": "python",
   "pygments_lexer": "ipython3",
   "version": "3.9.12"
  }
 },
 "nbformat": 4,
 "nbformat_minor": 5
}
